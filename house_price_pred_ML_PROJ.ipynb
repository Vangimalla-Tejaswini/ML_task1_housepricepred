{
 "cells": [
  {
   "cell_type": "markdown",
   "id": "4eb14e09-44f4-49b6-86a5-6443f5776536",
   "metadata": {},
   "source": [
    "### Project Overview:\n",
    "#### The goal of this project is to develop a machine learning model to predict house prices based on relevant features. We will use Python for coding, scikit-learn for traditional machine learning, and TensorFlow for deep learning."
   ]
  },
  {
   "cell_type": "code",
   "execution_count": 5,
   "id": "4243be4b-a742-493e-8297-9f832e8d216a",
   "metadata": {},
   "outputs": [],
   "source": [
    "# Import necessary libraries\n",
    "import numpy as np\n",
    "import pandas as pd\n",
    "import matplotlib.pyplot as plt\n",
    "from sklearn.model_selection import train_test_split\n",
    "from sklearn.preprocessing import StandardScaler\n",
    "from sklearn.linear_model import LinearRegression\n",
    "from sklearn.metrics import mean_squared_error\n",
    "from sklearn.datasets import fetch_california_housing\n",
    "\n",
    "import tensorflow as tf\n",
    "from tensorflow.keras.models import Sequential\n",
    "from tensorflow.keras.layers import Dense"
   ]
  },
  {
   "cell_type": "code",
   "execution_count": 6,
   "id": "9fdc4acf-87cf-446e-9614-d67d4a4db36a",
   "metadata": {},
   "outputs": [],
   "source": [
    "# Load the California housing dataset\n",
    "california_housing = fetch_california_housing()\n",
    "X = california_housing.data\n",
    "y = california_housing.target"
   ]
  },
  {
   "cell_type": "code",
   "execution_count": 7,
   "id": "f9b7f01c-2c27-4229-8b70-77805e01fe9d",
   "metadata": {},
   "outputs": [],
   "source": [
    "# Split the data into training and testing sets\n",
    "X_train, X_test, y_train, y_test = train_test_split(X, y, test_size=0.2, random_state=42)\n"
   ]
  },
  {
   "cell_type": "code",
   "execution_count": 8,
   "id": "83ebb35a-a0f0-4c82-81b4-b18349809836",
   "metadata": {},
   "outputs": [],
   "source": [
    "# Standardize the features\n",
    "scaler = StandardScaler()\n",
    "X_train = scaler.fit_transform(X_train)\n",
    "X_test = scaler.transform(X_test)"
   ]
  },
  {
   "cell_type": "code",
   "execution_count": 9,
   "id": "b29757d5-bae3-4d96-b7f4-8f780a86af8f",
   "metadata": {},
   "outputs": [],
   "source": [
    "# Train a Linear Regression Model\n",
    "linear_model = LinearRegression()\n",
    "linear_model.fit(X_train, y_train)\n",
    "linear_predictions = linear_model.predict(X_test)"
   ]
  },
  {
   "cell_type": "code",
   "execution_count": 10,
   "id": "560d5188-1810-4f9b-bfdb-68725fa710d3",
   "metadata": {},
   "outputs": [
    {
     "name": "stdout",
     "output_type": "stream",
     "text": [
      "Linear Regression:\n",
      "Mean Squared Error: 0.5558915986952442\n"
     ]
    }
   ],
   "source": [
    "# Evaluate the Linear Regression model\n",
    "linear_mse = mean_squared_error(y_test, linear_predictions)\n",
    "print(\"Linear Regression:\")\n",
    "print(f\"Mean Squared Error: {linear_mse}\")"
   ]
  },
  {
   "cell_type": "code",
   "execution_count": 11,
   "id": "ded9b4ee-4c17-4b70-bb1e-6d4394f749ae",
   "metadata": {},
   "outputs": [],
   "source": [
    "# Train a Neural Network using TensorFlow\n",
    "model = Sequential([\n",
    "    Dense(16, input_shape=(X_train.shape[1],), activation='relu'),\n",
    "    Dense(8, activation='relu'),\n",
    "    Dense(1)\n",
    "])"
   ]
  },
  {
   "cell_type": "code",
   "execution_count": null,
   "id": "331af655-1195-4bdf-9592-89b9e0629b7e",
   "metadata": {},
   "outputs": [
    {
     "name": "stdout",
     "output_type": "stream",
     "text": [
      "Epoch 1/50\n",
      "465/465 [==============================] - 2s 2ms/step - loss: 2.4513 - val_loss: 0.6331\n",
      "Epoch 2/50\n",
      "465/465 [==============================] - 1s 2ms/step - loss: 0.5280 - val_loss: 0.4989\n",
      "Epoch 3/50\n",
      "465/465 [==============================] - 1s 2ms/step - loss: 0.4389 - val_loss: 0.4612\n",
      "Epoch 4/50\n",
      "465/465 [==============================] - 1s 2ms/step - loss: 0.4083 - val_loss: 0.4431\n",
      "Epoch 5/50\n",
      "465/465 [==============================] - 1s 1ms/step - loss: 0.3907 - val_loss: 0.4345\n",
      "Epoch 6/50\n",
      "465/465 [==============================] - 1s 1ms/step - loss: 0.3839 - val_loss: 0.4222\n",
      "Epoch 7/50\n",
      "465/465 [==============================] - 1s 2ms/step - loss: 0.3723 - val_loss: 0.4147\n",
      "Epoch 8/50\n",
      "465/465 [==============================] - 1s 2ms/step - loss: 0.3649 - val_loss: 0.4102\n",
      "Epoch 9/50\n",
      "465/465 [==============================] - 1s 1ms/step - loss: 0.3636 - val_loss: 0.4003\n",
      "Epoch 10/50\n",
      "465/465 [==============================] - 1s 2ms/step - loss: 0.3571 - val_loss: 0.3957\n",
      "Epoch 11/50\n",
      "465/465 [==============================] - 1s 2ms/step - loss: 0.3513 - val_loss: 0.3915\n",
      "Epoch 12/50\n",
      "465/465 [==============================] - 1s 1ms/step - loss: 0.3486 - val_loss: 0.3847\n",
      "Epoch 13/50\n",
      "465/465 [==============================] - 1s 2ms/step - loss: 0.3433 - val_loss: 0.3824\n",
      "Epoch 14/50\n",
      "465/465 [==============================] - 1s 2ms/step - loss: 0.3387 - val_loss: 0.3793\n",
      "Epoch 15/50\n",
      "465/465 [==============================] - 1s 2ms/step - loss: 0.3372 - val_loss: 0.3752\n",
      "Epoch 16/50\n",
      "465/465 [==============================] - 1s 2ms/step - loss: 0.3319 - val_loss: 0.3674\n",
      "Epoch 17/50\n",
      "465/465 [==============================] - 1s 1ms/step - loss: 0.3294 - val_loss: 0.3657\n",
      "Epoch 18/50\n",
      "465/465 [==============================] - 1s 1ms/step - loss: 0.3274 - val_loss: 0.3767\n",
      "Epoch 19/50\n",
      "465/465 [==============================] - 1s 1ms/step - loss: 0.3285 - val_loss: 0.3599\n",
      "Epoch 20/50\n",
      "465/465 [==============================] - 1s 2ms/step - loss: 0.3227 - val_loss: 0.3577\n",
      "Epoch 21/50\n",
      "465/465 [==============================] - 1s 1ms/step - loss: 0.3205 - val_loss: 0.3548\n",
      "Epoch 22/50\n",
      "465/465 [==============================] - 1s 2ms/step - loss: 0.3203 - val_loss: 0.3551\n",
      "Epoch 23/50\n",
      "465/465 [==============================] - 1s 2ms/step - loss: 0.3186 - val_loss: 0.3520\n",
      "Epoch 24/50\n",
      "465/465 [==============================] - 1s 2ms/step - loss: 0.3198 - val_loss: 0.3477\n",
      "Epoch 25/50\n",
      "465/465 [==============================] - 1s 1ms/step - loss: 0.3139 - val_loss: 0.3459\n",
      "Epoch 26/50\n",
      "465/465 [==============================] - 1s 2ms/step - loss: 0.3140 - val_loss: 0.3445\n",
      "Epoch 27/50\n",
      "387/465 [=======================>......] - ETA: 0s - loss: 0.3116"
     ]
    }
   ],
   "source": [
    "model.compile(optimizer='adam', loss='mean_squared_error')\n",
    "history = model.fit(X_train, y_train, epochs=50, batch_size=32, validation_split=0.1, verbose=1)\n"
   ]
  },
  {
   "cell_type": "code",
   "execution_count": null,
   "id": "1cb99803-605d-4170-bbb1-da03225337bb",
   "metadata": {},
   "outputs": [],
   "source": [
    "# Evaluate the Neural Network model\n",
    "nn_predictions = model.predict(X_test)\n",
    "nn_mse = mean_squared_error(y_test, nn_predictions)\n",
    "print(\"\\nNeural Network:\")\n",
    "print(f\"Mean Squared Error: {nn_mse}\")"
   ]
  }
 ],
 "metadata": {
  "kernelspec": {
   "display_name": "Python 3 (ipykernel)",
   "language": "python",
   "name": "python3"
  },
  "language_info": {
   "codemirror_mode": {
    "name": "ipython",
    "version": 3
   },
   "file_extension": ".py",
   "mimetype": "text/x-python",
   "name": "python",
   "nbconvert_exporter": "python",
   "pygments_lexer": "ipython3",
   "version": "3.10.8"
  }
 },
 "nbformat": 4,
 "nbformat_minor": 5
}
